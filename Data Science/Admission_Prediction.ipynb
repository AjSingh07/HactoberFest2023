{
 "cells": [
  {
   "cell_type": "code",
   "execution_count": 1,
   "metadata": {
    "id": "Z-Brf_82wik3"
   },
   "outputs": [],
   "source": [
    "import pandas as pd\n",
    "import numpy as np\n",
    "import matplotlib.pyplot as plt\n",
    "%matplotlib inline"
   ]
  },
  {
   "cell_type": "code",
   "execution_count": null,
   "metadata": {
    "colab": {
     "base_uri": "https://localhost:8080/"
    },
    "id": "osMGcPby1rPU",
    "outputId": "ea87e8b5-bf86-49ea-d285-d29677474b84"
   },
   "outputs": [],
   "source": [
    "df = pd.read_csv('Admission_Predict.csv') # take the csv files from kaggle\n",
    "print(df.columns)\n"
   ]
  },
  {
   "cell_type": "code",
   "execution_count": null,
   "metadata": {
    "colab": {
     "base_uri": "https://localhost:8080/",
     "height": 204
    },
    "id": "h-s-0lZowik5",
    "outputId": "b5cfb02f-4220-4cd0-8219-6a70d30fa4df"
   },
   "outputs": [],
   "source": [
    "df.head()"
   ]
  },
  {
   "cell_type": "code",
   "execution_count": null,
   "metadata": {
    "colab": {
     "base_uri": "https://localhost:8080/",
     "height": 204
    },
    "id": "xDZtB5LRwik6",
    "outputId": "4e4747a7-cad8-47de-eab5-c919a88f4330"
   },
   "outputs": [],
   "source": [
    "df.tail()"
   ]
  },
  {
   "cell_type": "code",
   "execution_count": null,
   "metadata": {
    "colab": {
     "base_uri": "https://localhost:8080/",
     "height": 204
    },
    "id": "t38-Pp2Kwik6",
    "outputId": "d6d86d11-df55-4332-8763-a9f2e799ce12"
   },
   "outputs": [],
   "source": [
    "df.sample(5)"
   ]
  },
  {
   "cell_type": "code",
   "execution_count": null,
   "metadata": {
    "colab": {
     "base_uri": "https://localhost:8080/",
     "height": 297
    },
    "id": "JQGyzUD0wik6",
    "outputId": "6d40ac92-c3f5-4849-f594-2be1bf8c999e"
   },
   "outputs": [],
   "source": [
    "df.describe()"
   ]
  },
  {
   "cell_type": "code",
   "execution_count": null,
   "metadata": {
    "colab": {
     "base_uri": "https://localhost:8080/",
     "height": 295
    },
    "id": "jj0iuo6bwik7",
    "outputId": "37dbbdf1-c925-4a17-f2e4-93db967f05f0"
   },
   "outputs": [],
   "source": [
    "import matplotlib.pyplot as plt\n",
    "plt.scatter(df['GRE Score'],df['CGPA'])\n",
    "plt.title(\"CGPA vs GRE Scores\")\n",
    "plt.xlabel(\"GRE Score\")\n",
    "plt.ylabel(\"CGPA\")\n",
    "plt.show()\n"
   ]
  },
  {
   "cell_type": "code",
   "execution_count": null,
   "metadata": {
    "colab": {
     "base_uri": "https://localhost:8080/",
     "height": 295
    },
    "id": "bLM6GFpAwik7",
    "outputId": "3f7fa2d5-39a5-461f-fd3e-a4bc04bcdbb8"
   },
   "outputs": [],
   "source": [
    "plt.scatter(df[\"CGPA\"],df.SOP)\n",
    "plt.xlabel(\"CGPA\")\n",
    "plt.ylabel(\"SOP\")\n",
    "plt.title(\"SOP for CGPA\")\n",
    "plt.show()\n"
   ]
  },
  {
   "cell_type": "code",
   "execution_count": null,
   "metadata": {
    "colab": {
     "base_uri": "https://localhost:8080/",
     "height": 295
    },
    "id": "9rKST5p8wik7",
    "outputId": "f3935361-f108-4187-d27e-12d8f6b9cb35"
   },
   "outputs": [],
   "source": [
    "df[df.CGPA >= 8.5].plot(kind='scatter', x='GRE Score', y='TOEFL Score',color=\"red\")\n",
    "plt.xlabel(\"GRE Score\")\n",
    "plt.ylabel(\"TOEFL SCORE\")\n",
    "plt.title(\"CGPA>=8.5\")\n",
    "plt.grid(True)\n",
    "plt.show()"
   ]
  },
  {
   "cell_type": "code",
   "execution_count": null,
   "metadata": {
    "colab": {
     "base_uri": "https://localhost:8080/",
     "height": 404
    },
    "id": "5XWH01AZwik8",
    "outputId": "0365b756-7f4a-4e0c-d7ab-82c404a8f822"
   },
   "outputs": [],
   "source": [
    "df[\"GRE Score\"].plot(kind = 'hist',bins = 200,figsize = (6,6))\n",
    "plt.title(\"GRE Scores\")\n",
    "plt.xlabel(\"GRE Score\")\n",
    "plt.ylabel(\"Frequency\")\n",
    "plt.show()"
   ]
  },
  {
   "cell_type": "code",
   "execution_count": null,
   "metadata": {
    "colab": {
     "base_uri": "https://localhost:8080/",
     "height": 295
    },
    "id": "X6erlz9vwik8",
    "outputId": "2fa71fbc-932c-425a-fc0d-84e23c319215"
   },
   "outputs": [],
   "source": [
    "import numpy as np\n",
    "y = np.array([df[\"TOEFL Score\"].min(),df[\"TOEFL Score\"].mean(),df[\"TOEFL Score\"].max()])\n",
    "x = [\"Worst\",\"Average\",\"Best\"]\n",
    "plt.bar(x,y)\n",
    "plt.title(\"TOEFL Scores\")\n",
    "plt.xlabel(\"Level\")\n",
    "plt.ylabel(\"TOEFL Score\")\n",
    "plt.show()\n"
   ]
  },
  {
   "cell_type": "code",
   "execution_count": 12,
   "metadata": {
    "colab": {
     "base_uri": "https://localhost:8080/"
    },
    "id": "hvTXDBYhwik8",
    "outputId": "795cd01e-2002-4d36-fa01-019232a9ac6b"
   },
   "outputs": [
    {
     "data": {
      "text/plain": [
       "(400, 9)"
      ]
     },
     "execution_count": 12,
     "metadata": {},
     "output_type": "execute_result"
    }
   ],
   "source": [
    "df.dtypes\n",
    "df.shape\n",
    "\n"
   ]
  },
  {
   "cell_type": "code",
   "execution_count": null,
   "metadata": {
    "colab": {
     "base_uri": "https://localhost:8080/",
     "height": 672
    },
    "id": "v5J3cQtWwik9",
    "outputId": "c6f0757d-e96c-4686-e07f-7aa2f411a22e"
   },
   "outputs": [],
   "source": [
    "import seaborn as sns\n",
    "plt.figure(figsize=(10, 10))\n",
    "sns.heatmap(df.corr(), annot=True, linewidths=0.05, fmt= '.2f',cmap=\"magma\")\n",
    "plt.show()"
   ]
  },
  {
   "cell_type": "code",
   "execution_count": 14,
   "metadata": {
    "colab": {
     "base_uri": "https://localhost:8080/"
    },
    "id": "JOLVnVsuwik9",
    "outputId": "2a2a31b4-b03f-4a7b-8a16-718037b2f981"
   },
   "outputs": [
    {
     "data": {
      "text/plain": [
       "1    219\n",
       "0    181\n",
       "Name: Research, dtype: int64"
      ]
     },
     "execution_count": 14,
     "metadata": {},
     "output_type": "execute_result"
    }
   ],
   "source": [
    "df.Research.value_counts()"
   ]
  },
  {
   "cell_type": "code",
   "execution_count": null,
   "metadata": {
    "colab": {
     "base_uri": "https://localhost:8080/",
     "height": 279
    },
    "id": "HXJ4a5oIwik9",
    "outputId": "078ba749-d3f2-4e65-d4d7-4aa688c5a2bb",
    "scrolled": false
   },
   "outputs": [],
   "source": [
    "sns.countplot(x=\"University Rating\",data=df)\n",
    "plt.show()"
   ]
  },
  {
   "cell_type": "code",
   "execution_count": null,
   "metadata": {
    "colab": {
     "base_uri": "https://localhost:8080/",
     "height": 297
    },
    "id": "sN8I4ZJIwik9",
    "outputId": "9c4c50b6-4c26-4044-e005-01bad9e4952f"
   },
   "outputs": [],
   "source": [
    "sns.countplot(x=\"University Rating\",hue=\"Research\",data=df)\n"
   ]
  },
  {
   "cell_type": "code",
   "execution_count": null,
   "metadata": {
    "colab": {
     "base_uri": "https://localhost:8080/",
     "height": 297
    },
    "id": "P3E-5slWwik-",
    "outputId": "2701390b-e90c-4c51-d5a0-d19ecc965a95"
   },
   "outputs": [],
   "source": [
    "sns.barplot(x=\"University Rating\", y=\"Chance of Admit \", data=df)"
   ]
  },
  {
   "cell_type": "code",
   "execution_count": null,
   "metadata": {
    "colab": {
     "base_uri": "https://localhost:8080/",
     "height": 297
    },
    "id": "QMtdK8-Qwik-",
    "outputId": "add7a2d6-f4fa-497a-b6d3-0f1a4f333faa"
   },
   "outputs": [],
   "source": [
    "sns.barplot(x=\"University Rating\", y=\"Chance of Admit \", hue=\"Research\", data=df)"
   ]
  }
 ],
 "metadata": {
  "colab": {
   "name": "Admission_Prediction for ML .ipynb",
   "provenance": []
  },
  "kernelspec": {
   "display_name": "Python 3",
   "language": "python",
   "name": "python3"
  },
  "language_info": {
   "codemirror_mode": {
    "name": "ipython",
    "version": 3
   },
   "file_extension": ".py",
   "mimetype": "text/x-python",
   "name": "python",
   "nbconvert_exporter": "python",
   "pygments_lexer": "ipython3",
   "version": "3.11.3"
  }
 },
 "nbformat": 4,
 "nbformat_minor": 1
}
